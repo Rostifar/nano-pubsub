{
 "cells": [
  {
   "cell_type": "code",
   "execution_count": 6,
   "id": "30f25bc0-d0aa-45b5-8b1e-476109755532",
   "metadata": {},
   "outputs": [],
   "source": [
    "import os\n",
    "import fcntl\n"
   ]
  },
  {
   "cell_type": "code",
   "execution_count": 9,
   "id": "855a2d78-ec32-4197-a188-2bf6cc0bb1d2",
   "metadata": {},
   "outputs": [],
   "source": [
    "test_file = '/tmp/42erfeew-pipe'"
   ]
  },
  {
   "cell_type": "code",
   "execution_count": 10,
   "id": "c6c94ac9-d47d-448c-a2cb-db05dedde58c",
   "metadata": {},
   "outputs": [],
   "source": [
    "os.mkfifo(test_file, 0o666)"
   ]
  },
  {
   "cell_type": "code",
   "execution_count": 21,
   "id": "c35431da-992f-4656-b7c5-5b84eb791e26",
   "metadata": {},
   "outputs": [
    {
     "ename": "KeyboardInterrupt",
     "evalue": "",
     "output_type": "error",
     "traceback": [
      "\u001b[31m---------------------------------------------------------------------------\u001b[39m",
      "\u001b[31mKeyboardInterrupt\u001b[39m                         Traceback (most recent call last)",
      "\u001b[36mCell\u001b[39m\u001b[36m \u001b[39m\u001b[32mIn[21]\u001b[39m\u001b[32m, line 1\u001b[39m\n\u001b[32m----> \u001b[39m\u001b[32m1\u001b[39m \u001b[38;5;28;01mwith\u001b[39;00m \u001b[38;5;28;43mopen\u001b[39;49m\u001b[43m(\u001b[49m\u001b[43mtest_file\u001b[49m\u001b[43m,\u001b[49m\u001b[43m \u001b[49m\u001b[33;43m'\u001b[39;49m\u001b[33;43mr\u001b[39;49m\u001b[33;43m'\u001b[39;49m\u001b[43m)\u001b[49m \u001b[38;5;28;01mas\u001b[39;00m f: \n\u001b[32m      2\u001b[39m     \u001b[38;5;28mprint\u001b[39m(f)\n",
      "\u001b[36mFile \u001b[39m\u001b[32m~/dev_workspace/nano-pubsub/exp/.venv/lib/python3.13/site-packages/IPython/core/interactiveshell.py:325\u001b[39m, in \u001b[36m_modified_open\u001b[39m\u001b[34m(file, *args, **kwargs)\u001b[39m\n\u001b[32m    318\u001b[39m \u001b[38;5;28;01mif\u001b[39;00m file \u001b[38;5;129;01min\u001b[39;00m {\u001b[32m0\u001b[39m, \u001b[32m1\u001b[39m, \u001b[32m2\u001b[39m}:\n\u001b[32m    319\u001b[39m     \u001b[38;5;28;01mraise\u001b[39;00m \u001b[38;5;167;01mValueError\u001b[39;00m(\n\u001b[32m    320\u001b[39m         \u001b[33mf\u001b[39m\u001b[33m\"\u001b[39m\u001b[33mIPython won\u001b[39m\u001b[33m'\u001b[39m\u001b[33mt let you open fd=\u001b[39m\u001b[38;5;132;01m{\u001b[39;00mfile\u001b[38;5;132;01m}\u001b[39;00m\u001b[33m by default \u001b[39m\u001b[33m\"\u001b[39m\n\u001b[32m    321\u001b[39m         \u001b[33m\"\u001b[39m\u001b[33mas it is likely to crash IPython. If you know what you are doing, \u001b[39m\u001b[33m\"\u001b[39m\n\u001b[32m    322\u001b[39m         \u001b[33m\"\u001b[39m\u001b[33myou can use builtins\u001b[39m\u001b[33m'\u001b[39m\u001b[33m open.\u001b[39m\u001b[33m\"\u001b[39m\n\u001b[32m    323\u001b[39m     )\n\u001b[32m--> \u001b[39m\u001b[32m325\u001b[39m \u001b[38;5;28;01mreturn\u001b[39;00m \u001b[43mio_open\u001b[49m\u001b[43m(\u001b[49m\u001b[43mfile\u001b[49m\u001b[43m,\u001b[49m\u001b[43m \u001b[49m\u001b[43m*\u001b[49m\u001b[43margs\u001b[49m\u001b[43m,\u001b[49m\u001b[43m \u001b[49m\u001b[43m*\u001b[49m\u001b[43m*\u001b[49m\u001b[43mkwargs\u001b[49m\u001b[43m)\u001b[49m\n",
      "\u001b[31mKeyboardInterrupt\u001b[39m: "
     ]
    }
   ],
   "source": [
    "with open(test_file, 'r') as f: \n",
    "    print(f)"
   ]
  },
  {
   "cell_type": "code",
   "execution_count": null,
   "id": "bf063275-27c3-4915-936d-467eff299049",
   "metadata": {},
   "outputs": [],
   "source": []
  },
  {
   "cell_type": "code",
   "execution_count": 19,
   "id": "9078fff5-e796-40f9-8591-48dd4e9a5ad3",
   "metadata": {},
   "outputs": [
    {
     "ename": "KeyboardInterrupt",
     "evalue": "",
     "output_type": "error",
     "traceback": [
      "\u001b[31m---------------------------------------------------------------------------\u001b[39m",
      "\u001b[31mKeyboardInterrupt\u001b[39m                         Traceback (most recent call last)",
      "\u001b[36mCell\u001b[39m\u001b[36m \u001b[39m\u001b[32mIn[19]\u001b[39m\u001b[32m, line 1\u001b[39m\n\u001b[32m----> \u001b[39m\u001b[32m1\u001b[39m fd = \u001b[43mos\u001b[49m\u001b[43m.\u001b[49m\u001b[43mopen\u001b[49m\u001b[43m(\u001b[49m\u001b[43mtest_file\u001b[49m\u001b[43m,\u001b[49m\u001b[43m \u001b[49m\u001b[43mos\u001b[49m\u001b[43m.\u001b[49m\u001b[43mO_RDONLY\u001b[49m\u001b[43m)\u001b[49m\n\u001b[32m      2\u001b[39m pipe_size = fcntl.fcntl(fd, fcntl.F_GETPIPE_SZ)\n\u001b[32m      3\u001b[39m os.close(fd)\n",
      "\u001b[31mKeyboardInterrupt\u001b[39m: "
     ]
    }
   ],
   "source": [
    "fd = os.open(test_file, os.O_RDONLY)\n",
    "pipe_size = fcntl.fcntl(fd, fcntl.F_GETPIPE_SZ)\n",
    "os.close(fd)"
   ]
  },
  {
   "cell_type": "code",
   "execution_count": 13,
   "id": "d8da8ec4-cc88-4c44-8d09-393ff398d0b0",
   "metadata": {},
   "outputs": [
    {
     "ename": "KeyboardInterrupt",
     "evalue": "",
     "output_type": "error",
     "traceback": [
      "\u001b[31m---------------------------------------------------------------------------\u001b[39m",
      "\u001b[31mKeyboardInterrupt\u001b[39m                         Traceback (most recent call last)",
      "\u001b[36mCell\u001b[39m\u001b[36m \u001b[39m\u001b[32mIn[13]\u001b[39m\u001b[32m, line 1\u001b[39m\n\u001b[32m----> \u001b[39m\u001b[32m1\u001b[39m \u001b[38;5;28;01mwith\u001b[39;00m \u001b[43mos\u001b[49m\u001b[43m.\u001b[49m\u001b[43mopen\u001b[49m\u001b[43m(\u001b[49m\u001b[43mtest_file\u001b[49m\u001b[43m,\u001b[49m\u001b[43m \u001b[49m\u001b[43mos\u001b[49m\u001b[43m.\u001b[49m\u001b[43mO_RDONLY\u001b[49m\u001b[43m)\u001b[49m \u001b[38;5;28;01mas\u001b[39;00m fd:\n\u001b[32m      2\u001b[39m     \u001b[38;5;28mprint\u001b[39m(fcntl.fcntl(fd, fcntl.F_GETPIPE_SZ))\n",
      "\u001b[31mKeyboardInterrupt\u001b[39m: "
     ]
    }
   ],
   "source": [
    "with os.open(test_file, os.O_RDONLY) as fd:\n",
    "    print(fcntl.fcntl(fd, fcntl.F_GETPIPE_SZ))\n"
   ]
  },
  {
   "cell_type": "code",
   "execution_count": null,
   "id": "27d50e97-fd92-4ad1-93bd-511a75bc70cb",
   "metadata": {},
   "outputs": [],
   "source": [
    "def get_pipe_buffer_size(pipe_path):\n",
    "    \"\"\"Get the buffer size of a pipe (PIPE_BUF).\"\"\"\n",
    "    # Open the pipe for reading\n",
    "    fd = os.open(pipe_path, os.O_RDONLY)\n",
    "    \n",
    "    try:\n",
    "        # Get the pipe buffer size\n",
    "        pipe_size = fcntl.fcntl(fd, fcntl.F_GETPIPE_SZ)\n",
    "        return pipe_size\n",
    "    finally:\n",
    "        # Make sure to close the file descriptor\n",
    "        os.close(fd)\n",
    "\n",
    "# Example usage:\n",
    "pipe_path = \"/tmp/myfifo\"\n",
    "\n",
    "# Create the named pipe if it doesn't exist\n",
    "if not os.path.exists(pipe_path):\n",
    "    os.mkfifo(pipe_path, 0o666)\n",
    "\n",
    "# Get and print the pipe buffer size\n",
    "pipe_buf = get_pipe_buffer_size(pipe_path)\n",
    "print(f\"Pipe buffer size (PIPE_BUF): {pipe_buf} bytes\")"
   ]
  }
 ],
 "metadata": {
  "kernelspec": {
   "display_name": "Python 3 (ipykernel)",
   "language": "python",
   "name": "python3"
  },
  "language_info": {
   "codemirror_mode": {
    "name": "ipython",
    "version": 3
   },
   "file_extension": ".py",
   "mimetype": "text/x-python",
   "name": "python",
   "nbconvert_exporter": "python",
   "pygments_lexer": "ipython3",
   "version": "3.13.1"
  }
 },
 "nbformat": 4,
 "nbformat_minor": 5
}
